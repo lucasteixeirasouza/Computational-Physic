{
 "cells": [
  {
   "cell_type": "code",
   "execution_count": null,
   "id": "871a327f",
   "metadata": {},
   "outputs": [],
   "source": [
    "#PEGA PONTO MEDIO ENTRE POLEGAR E INDICADOR\n",
    "\n",
    "import cv2             # Importat bibliotecas.\n",
    "import mediapipe as mp\n",
    "\n",
    "cap = cv2.VideoCapture(0)  # Criar imagem.\n",
    "mpHands = mp.solutions.hands\n",
    "hands = mpHands.Hands()\n",
    "mpDraw = mp.solutions.drawing_utils\n",
    "\n",
    "while True:\n",
    "    success, image = cap.read()\n",
    "    image = cv2.flip(image, 1)\n",
    "    imageRGB = cv2.cvtColor(image, cv2.COLOR_BGR2RGB) # Definir cores.\n",
    "    results = hands.process(imageRGB)\n",
    "    lista_maos = []\n",
    "    if results.multi_hand_landmarks:\n",
    "        for handLms in results.multi_hand_landmarks:\n",
    "            lista_dedos = []\n",
    "            for id, lm in enumerate(handLms.landmark):\n",
    "                h, w, c = image.shape\n",
    "                cx, cy = int(lm.x * w), int(lm.y * h)\n",
    "                lista_dedos.append([id, cx, cy])\n",
    "                if id == 8 or id == 4: # Selecionar os dedos que serão lidos.\n",
    "                    cv2.circle(image, (cx, cy), 20, (0, 0, 255), cv2.FILLED) # Circular os dedos escolhidos.\n",
    "\n",
    "            lista_maos.append(lista_dedos)\n",
    "            mpDraw.draw_landmarks(image, handLms, mpHands.HAND_CONNECTIONS)\n",
    "\n",
    "    if len(lista_maos) >= 1:\n",
    "        for lista_dedos in lista_maos:\n",
    "            if len(lista_dedos) != 0:\n",
    "                dedo1 = lista_dedos[8]\n",
    "                dedo2 = lista_dedos[4]\n",
    "                ponto_medio_x = int((dedo1[1] + dedo2[1]) / 2) # Calcular o ponto médio.\n",
    "                ponto_medio_y = int((dedo1[2] + dedo2[2]) / 2) # Calcular o ponto médio.\n",
    "                ponto_medio = (ponto_medio_x, ponto_medio_y)\n",
    "                cv2.putText(image, f\"({ponto_medio_x}, {ponto_medio_y})\", ponto_medio, cv2.FONT_HERSHEY_SIMPLEX, 0.7, (255, 255, 255), 2)\n",
    "                cv2.line(image, (dedo1[1], dedo1[2]), (dedo2[1], dedo2[2]), (0, 255, 0), 3)\n",
    "                cv2.circle(image, ponto_medio, 10, (0, 0, 255), cv2.FILLED)\n",
    "\n",
    "    cv2.imshow(\"Output\", image)\n",
    "    if cv2.waitKey(1) & 0xFF == ord('q'):\n",
    "        break\n",
    "\n",
    "cap.release()\n",
    "cv2.destroyAllWindows()\n"
   ]
  }
 ],
 "metadata": {
  "kernelspec": {
   "display_name": "Python 3 (ipykernel)",
   "language": "python",
   "name": "python3"
  },
  "language_info": {
   "codemirror_mode": {
    "name": "ipython",
    "version": 3
   },
   "file_extension": ".py",
   "mimetype": "text/x-python",
   "name": "python",
   "nbconvert_exporter": "python",
   "pygments_lexer": "ipython3",
   "version": "3.10.9"
  }
 },
 "nbformat": 4,
 "nbformat_minor": 5
}
